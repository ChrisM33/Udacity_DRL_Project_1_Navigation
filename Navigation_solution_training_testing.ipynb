{
 "cells": [
  {
   "cell_type": "markdown",
   "metadata": {},
   "source": [
    "<font size=\"6\">Udacity Deep Reinforcement Learning Nanodegree Program</font>\n",
    "\n",
    "<div class=\"alert alert-block alert-info\" style=\"margin-top: 20px\">\n",
    " <a href=\"https://www.udacity.com/course/deep-reinforcement-learning-nanodegree--nd893\"><img src = \"Navigation_notebook_resources/Picture/UdacityDRL01.png\" width = 950, align = \"center\"></a>\n",
    "</div>\n",
    "\n",
    "Navigation project (banana) of the [Udacity Deep Reinforcement Learning Nanodegree Program](https://www.udacity.com/course/deep-reinforcement-learning-nanodegree--nd893) from [Christian Motschenbacher](https://gh.linkedin.com/in/christian-motschenbacher-7a660b123)"
   ]
  },
  {
   "cell_type": "markdown",
   "metadata": {},
   "source": [
    "# Table of Contents\n",
    "\n",
    "<div class=\"alert alert-block alert-info\" style=\"margin-top: 20px\">\n",
    "<li><a href=\"#ref0\">Author, Project and Environment description </a></li>\n",
    "<li><a href=\"#ref2\">Libraries </a></li>\n",
    "<li><a href=\"#ref3\">Start the Environment </a></li>\n",
    "<li><a href=\"#ref4\">Watching/testing an untrained agent </a></li>\n",
    "<li><a href=\"#ref5\">Training the Agent with DGN </a></li>\n",
    "<li><a href=\"#ref6\">Plotting the training reward scores </a></li>\n",
    "<li><a href=\"#ref7\">Watching/testing an trained agent </a></li>\n",
    "<li><a href=\"#ref8\">Close Environment </a></li>\n",
    "</div>"
   ]
  },
  {
   "cell_type": "markdown",
   "metadata": {},
   "source": [
    "<hr>"
   ]
  },
  {
   "cell_type": "markdown",
   "metadata": {},
   "source": [
    "# Author, Project and Environment description\n",
    "## Author  \n",
    "  \n",
    "**Name: [Christian Motschenbacher](https://gh.linkedin.com/in/christian-motschenbacher-7a660b123)**  \n",
    "  \n",
    "**Date: 01/2019**  \n",
    "  \n",
    "**Project: Udacity Deep Reinforcement Learning Nanodegree Program: Project 1 Navigation (Banana)**  \n",
    "**This file contains the training and testing code for this project.**\n",
    "\n",
    "\n",
    "## Project and Environment description\n",
    "\n",
    "    \n",
    "<p>The task of this project was to to train an agent, who navigates in a large environment, collect as many yellow bananas while avoiding blue bananas. The following video is showing how a trained agent is performing this task well.</p>\n",
    "\n",
    "![](./Navigation_notebook_resources/Picture/UdacityDRL02.gif)\n",
    "\n",
    "<p>A reward of +1 is provided for collecting a yellow banana, and a reward of -1 is provided for collecting a blue banana.  Thus, the goal of the agent is to collect as many yellow bananas as possible while avoiding blue bananas.  </p>\n",
    "\n",
    "<p>The state space has 37 dimensions and contains the agent's velocity, along with ray-based perception of objects around the agent's forward direction.  Given this information, the agent has to learn how to best select actions. Four discrete actions are available, corresponding to:</p>\n",
    "\n",
    "<ul>\n",
    "<li><strong><code>0</code></strong> - move forward.</li>\n",
    "<li><strong><code>1</code></strong> - move backward.</li>\n",
    "<li><strong><code>2</code></strong> - turn left.</li>\n",
    "<li><strong><code>3</code></strong> - turn right.</li>\n",
    "</ul>\n",
    "\n",
    "<p>The task is episodic and in order to solve the environment, the agent must achieve an average score of +13 over 100 consecutive episodes.</p>\n",
    "\n",
    "<p> For the soution of this task it has been used the banana environment from Unity-Technologies, the Python programming language as well the libraries NumPy, PyTorch and others.</p>\n"
   ]
  },
  {
   "cell_type": "markdown",
   "metadata": {},
   "source": [
    "<hr>"
   ]
  },
  {
   "cell_type": "markdown",
   "metadata": {},
   "source": [
    "# Libraries\n",
    "Importing the necessary libraries for this project."
   ]
  },
  {
   "cell_type": "code",
   "execution_count": 1,
   "metadata": {
    "ExecuteTime": {
     "end_time": "2019-01-13T17:58:57.116273Z",
     "start_time": "2019-01-13T17:58:54.950659Z"
    }
   },
   "outputs": [],
   "source": [
    "from unityagents import UnityEnvironment\n",
    "\n",
    "import numpy as np\n",
    "from time import sleep\n",
    "from pandas import Series\n",
    "\n",
    "import torch\n",
    "from collections import deque\n",
    "import matplotlib.pyplot as plt\n",
    "%matplotlib inline\n",
    "\n",
    "from IPython.display import HTML"
   ]
  },
  {
   "cell_type": "markdown",
   "metadata": {},
   "source": [
    "<hr>"
   ]
  },
  {
   "cell_type": "markdown",
   "metadata": {},
   "source": [
    "# Start the Environment\n",
    "  \n",
    "The next code section opens and starts the Unity Environment. In addition, the environment return its properties such as the amount of possible actions, the state spaces and others."
   ]
  },
  {
   "cell_type": "code",
   "execution_count": 2,
   "metadata": {
    "ExecuteTime": {
     "end_time": "2019-01-13T17:58:57.833580Z",
     "start_time": "2019-01-13T17:58:57.118268Z"
    }
   },
   "outputs": [
    {
     "name": "stderr",
     "output_type": "stream",
     "text": [
      "INFO:unityagents:\n",
      "'Academy' started successfully!\n",
      "Unity Academy name: Academy\n",
      "        Number of Brains: 1\n",
      "        Number of External Brains : 1\n",
      "        Lesson number : 0\n",
      "        Reset Parameters :\n",
      "\t\t\n",
      "Unity brain name: BananaBrain\n",
      "        Number of Visual Observations (per agent): 0\n",
      "        Vector Observation space type: continuous\n",
      "        Vector Observation space size (per agent): 37\n",
      "        Number of stacked Vector Observation: 1\n",
      "        Vector Action space type: discrete\n",
      "        Vector Action space size (per agent): 4\n",
      "        Vector Action descriptions: , , , \n"
     ]
    }
   ],
   "source": [
    "# The project has been developed in Windows and therefore, the Unity-Technology environment has been used.\n",
    "# The training can be performed with and without graphics by setting the parameter \"no_graphics=False\" \n",
    "# respectiveley \"no_graphics=True\".\n",
    "env = UnityEnvironment(file_name=\"./Navigation_notebook_resources/Environment/Banana_Windows_x86_64/Banana.exe\", \n",
    "                       no_graphics=True)"
   ]
  },
  {
   "cell_type": "markdown",
   "metadata": {},
   "source": [
    "The Environment contains the **_brains_**, which are responsible for deciding the actions of their associated agents. Here we assign the brain and set it as the default brain. This brain will be controlling from Python."
   ]
  },
  {
   "cell_type": "code",
   "execution_count": 3,
   "metadata": {
    "ExecuteTime": {
     "end_time": "2019-01-13T17:58:57.838568Z",
     "start_time": "2019-01-13T17:58:57.834603Z"
    }
   },
   "outputs": [
    {
     "name": "stdout",
     "output_type": "stream",
     "text": [
      "BananaBrain\n",
      "Unity brain name: BananaBrain\n",
      "        Number of Visual Observations (per agent): 0\n",
      "        Vector Observation space type: continuous\n",
      "        Vector Observation space size (per agent): 37\n",
      "        Number of stacked Vector Observation: 1\n",
      "        Vector Action space type: discrete\n",
      "        Vector Action space size (per agent): 4\n",
      "        Vector Action descriptions: , , , \n"
     ]
    }
   ],
   "source": [
    "# get the default brain\n",
    "brain_name = env.brain_names[0]\n",
    "brain = env.brains[brain_name]\n",
    "print(brain_name) # print brain name\n",
    "print(brain)      # print the properties of the brain"
   ]
  },
  {
   "cell_type": "markdown",
   "metadata": {},
   "source": [
    "<hr>"
   ]
  },
  {
   "cell_type": "markdown",
   "metadata": {},
   "source": [
    "# Examine the State and Action Spaces\n",
    "\n",
    "The simulation contains a single agent that navigates in a large environment. At each time step, it has four actions at its disposal:\n",
    "- `0` - walk forward \n",
    "- `1` - walk backward\n",
    "- `2` - turn left\n",
    "- `3` - turn right\n",
    "\n",
    "The state space has `37` dimensions and contains the agent's velocity, along with ray-based perception of objects around agent's forward direction. A reward of `+1` is provided for collecting a yellow banana and a reward of `-1` is provided for collecting a blue banana. \n",
    "  \n",
    "The code cell below print some information about the environment."
   ]
  },
  {
   "cell_type": "code",
   "execution_count": 4,
   "metadata": {
    "ExecuteTime": {
     "end_time": "2019-01-13T17:58:57.919458Z",
     "start_time": "2019-01-13T17:58:57.842585Z"
    }
   },
   "outputs": [
    {
     "name": "stdout",
     "output_type": "stream",
     "text": [
      "Number of agents: 1\n",
      "Number of actions: 4\n",
      "States look like: [1.         0.         0.         0.         0.84408134 0.\n",
      " 0.         1.         0.         0.0748472  0.         1.\n",
      " 0.         0.         0.25755    1.         0.         0.\n",
      " 0.         0.74177343 0.         1.         0.         0.\n",
      " 0.25854847 0.         0.         1.         0.         0.09355672\n",
      " 0.         1.         0.         0.         0.31969345 0.\n",
      " 0.        ]\n",
      "States have length: 37\n"
     ]
    }
   ],
   "source": [
    "# reset the environment\n",
    "env_info = env.reset(train_mode=True)[brain_name]\n",
    "\n",
    "# number of agents in the environment\n",
    "print('Number of agents:', len(env_info.agents))\n",
    "\n",
    "# number of actions\n",
    "action_size = brain.vector_action_space_size\n",
    "print('Number of actions:', action_size)\n",
    "\n",
    "# examine the state space \n",
    "state = env_info.vector_observations[0]\n",
    "print('States look like:', state)\n",
    "state_size = len(state)\n",
    "print('States have length:', state_size)"
   ]
  },
  {
   "cell_type": "markdown",
   "metadata": {},
   "source": [
    "<hr>"
   ]
  },
  {
   "cell_type": "markdown",
   "metadata": {},
   "source": [
    "# Create an intelligent Agent for the following testing, training and testing code section."
   ]
  },
  {
   "cell_type": "code",
   "execution_count": 5,
   "metadata": {
    "ExecuteTime": {
     "end_time": "2019-01-13T17:59:00.420203Z",
     "start_time": "2019-01-13T17:58:57.922448Z"
    }
   },
   "outputs": [],
   "source": [
    "from dqn_agent import Agent                         # import the necessary library with the class agent\n",
    "agent = Agent(state_size=37, action_size=4, seed=0) # create and instance with initial parameters of the agent"
   ]
  },
  {
   "cell_type": "markdown",
   "metadata": {},
   "source": [
    "<hr>"
   ]
  },
  {
   "cell_type": "markdown",
   "metadata": {
    "ExecuteTime": {
     "end_time": "2018-12-28T00:42:25.806251Z",
     "start_time": "2018-12-28T00:41:55.873159Z"
    }
   },
   "source": [
    "# Watch/testing an untrained agent"
   ]
  },
  {
   "cell_type": "markdown",
   "metadata": {},
   "source": [
    "**Example Video of untrained agent.**  \n",
    "After the following code cell is executed the vido can be started via the play button."
   ]
  },
  {
   "cell_type": "code",
   "execution_count": 6,
   "metadata": {
    "ExecuteTime": {
     "end_time": "2019-01-13T17:59:00.430142Z",
     "start_time": "2019-01-13T17:59:00.421198Z"
    }
   },
   "outputs": [
    {
     "data": {
      "text/html": [
       "\n",
       "<div align=\"middle\">\n",
       "<video width=\"80%\" height=\"\" controls>\n",
       "  <source src=\"Navigation_notebook_resources/Picture/01_p1_b_untrained.mp4\" type=\"video/mp4\">\n",
       "</video></div>\n"
      ],
      "text/plain": [
       "<IPython.core.display.HTML object>"
      ]
     },
     "execution_count": 6,
     "metadata": {},
     "output_type": "execute_result"
    }
   ],
   "source": [
    "HTML(\"\"\"\n",
    "<div align=\"middle\">\n",
    "<video width=\"80%\" height=\"\" controls>\n",
    "  <source src=\"Navigation_notebook_resources/Picture/01_p1_b_untrained.mp4\" type=\"video/mp4\">\n",
    "</video></div>\n",
    "\"\"\")"
   ]
  },
  {
   "cell_type": "markdown",
   "metadata": {},
   "source": [
    "Once the following testing of an untrained agent code cell is executed, a window will pop up you will watch the agent's untrained performance controlled by the actions from the current untrained Q-table at each time step. "
   ]
  },
  {
   "cell_type": "code",
   "execution_count": 7,
   "metadata": {
    "ExecuteTime": {
     "end_time": "2019-01-13T17:59:56.415644Z",
     "start_time": "2019-01-13T17:59:00.431139Z"
    }
   },
   "outputs": [
    {
     "name": "stdout",
     "output_type": "stream",
     "text": [
      "Score: 0.0\n"
     ]
    }
   ],
   "source": [
    "# testing of an untrained agent code cell\n",
    "for j in range(1):\n",
    "    env_info = env.reset(train_mode=False)[brain_name] # reset the environment\n",
    "    state = env_info.vector_observations[0]            # get the current state\n",
    "    scores = []                                        # list containing scores from each episode\n",
    "    score = 0                                          # initialize the score\n",
    "    while True:\n",
    "        #sleep(0.1)                                     # for debugging and video recording\n",
    "        action = agent.act(state).astype(int)          # select an action\n",
    "        env_info = env.step(action)[brain_name]        # send the action to the environment\n",
    "        next_state = env_info.vector_observations[0]   # get the next state\n",
    "        reward = env_info.rewards[0]                   # get the reward\n",
    "        done = env_info.local_done[0]                  # see if episode has finished\n",
    "        score += reward                                # update the score\n",
    "        scores.append(score)                           # collect scores\n",
    "        state = next_state                             # roll over the state to next time step\n",
    "        if done:                                       # exit loop if episode finished\n",
    "            break\n",
    "    print(\"Score: {}\".format(score))                   # print the scores"
   ]
  },
  {
   "cell_type": "code",
   "execution_count": 8,
   "metadata": {
    "ExecuteTime": {
     "end_time": "2019-01-13T17:59:56.589210Z",
     "start_time": "2019-01-13T17:59:56.421636Z"
    },
    "scrolled": true
   },
   "outputs": [
    {
     "data": {
      "image/png": "[encoded data removed]",
      "text/plain": [
       "<Figure size 432x288 with 1 Axes>"
      ]
     },
     "metadata": {
      "needs_background": "light"
     },
     "output_type": "display_data"
    }
   ],
   "source": [
    "# plot and print the achived scores during this episode\n",
    "fig = plt.figure()\n",
    "ax = fig.add_subplot(111)\n",
    "plt.plot(np.arange(len(scores)), scores)\n",
    "plt.ylabel('Score')\n",
    "plt.xlabel('Episode #')\n",
    "plt.title('Performance of an Untrained Agent')\n",
    "plt.show()"
   ]
  },
  {
   "cell_type": "markdown",
   "metadata": {},
   "source": [
    "<hr>"
   ]
  },
  {
   "cell_type": "markdown",
   "metadata": {},
   "source": [
    "# Train the Agent/Model with DQN"
   ]
  },
  {
   "cell_type": "markdown",
   "metadata": {},
   "source": [
    "**Example Video of an agent while training.**  \n",
    "After the following code cell is executed the vido can be started via the play button."
   ]
  },
  {
   "cell_type": "code",
   "execution_count": 9,
   "metadata": {
    "ExecuteTime": {
     "end_time": "2019-01-13T17:59:56.596159Z",
     "start_time": "2019-01-13T17:59:56.590175Z"
    }
   },
   "outputs": [
    {
     "data": {
      "text/html": [
       "\n",
       "<div align=\"middle\">\n",
       "<video width=\"80%\" height=\"\" controls>\n",
       "  <source src=\"Navigation_notebook_resources/Picture/02_p1_b_training.mp4\" type=\"video/mp4\">\n",
       "</video></div>\n"
      ],
      "text/plain": [
       "<IPython.core.display.HTML object>"
      ]
     },
     "execution_count": 9,
     "metadata": {},
     "output_type": "execute_result"
    }
   ],
   "source": [
    "HTML(\"\"\"\n",
    "<div align=\"middle\">\n",
    "<video width=\"80%\" height=\"\" controls>\n",
    "  <source src=\"Navigation_notebook_resources/Picture/02_p1_b_training.mp4\" type=\"video/mp4\">\n",
    "</video></div>\n",
    "\"\"\")"
   ]
  },
  {
   "cell_type": "markdown",
   "metadata": {},
   "source": [
    "The training code cell below train the agent from scratch and output the agent's performance continuously. The used parameters have been found by systematically empirical analysis. Once the agent exceeds the score +13, which is defined that the environment and task is solved the program save the model weights of the trained agent in the folder ```\"./Navigation_notebook_resources/Model_weights/checkpoint_solved.pth\"``` and returns the score for the subsequent plot."
   ]
  },
  {
   "cell_type": "code",
   "execution_count": 10,
   "metadata": {
    "ExecuteTime": {
     "end_time": "2019-01-13T18:44:05.953101Z",
     "start_time": "2019-01-13T17:59:56.597157Z"
    },
    "scrolled": false
   },
   "outputs": [
    {
     "name": "stdout",
     "output_type": "stream",
     "text": [
      "Episode 100\tAverage Score: 0.42\n",
      "Episode 200\tAverage Score: 2.93\n",
      "Episode 300\tAverage Score: 6.84\n",
      "Episode 400\tAverage Score: 11.26\n",
      "Episode 470\tAverage Score: 13.14\n",
      "Environment solved in 370 episodes!\tAverage Score: 13.14\n",
      "Episode 500\tAverage Score: 13.81\n",
      "Episode 600\tAverage Score: 14.57\n",
      "Episode 700\tAverage Score: 14.70\n",
      "Episode 800\tAverage Score: 15.48\n",
      "Episode 900\tAverage Score: 15.47\n",
      "Episode 1000\tAverage Score: 16.51\n",
      "Episode 1100\tAverage Score: 15.91\n",
      "Episode 1200\tAverage Score: 15.03\n",
      "Episode 1300\tAverage Score: 15.91\n",
      "Episode 1400\tAverage Score: 14.50\n",
      "Episode 1500\tAverage Score: 15.32\n",
      "Episode 1600\tAverage Score: 14.62\n",
      "Episode 1700\tAverage Score: 14.62\n",
      "Episode 1800\tAverage Score: 14.88\n",
      "Episode 1900\tAverage Score: 14.70\n",
      "Episode 2000\tAverage Score: 15.65\n",
      "\n",
      "Environment solved in 370 episodes!\tAverage Score: 13.14\n"
     ]
    }
   ],
   "source": [
    "# training code cell\n",
    "def dqn(n_episodes=2000, max_t=1000, eps_start=1.0, eps_end=0.01, eps_decay=0.995):\n",
    "    \"\"\"Deep Q-Learning.\n",
    "    Params\n",
    "    ======\n",
    "        n_episodes (int): maximum number of training episodes\n",
    "        max_t (int): maximum number of timesteps per episode\n",
    "        eps_start (float): starting value of epsilon, for epsilon-greedy action selection\n",
    "        eps_end (float): minimum value of epsilon\n",
    "        eps_decay (float): multiplicative factor (per episode) for decreasing epsilon\n",
    "    \"\"\"\n",
    "    scores = []                          # list containing scores from each episode\n",
    "    scores_window = deque(maxlen=100)    # last 100 scores\n",
    "    eps = eps_start                      # initialize epsilon\n",
    "    i_episode_solved = 0                 # episodes solved environment\n",
    "    scores_window_solved = scores_window # last 100 scores\n",
    "    for i_episode in range(1, n_episodes+1):\n",
    "        env_info = env.reset(train_mode=True)[brain_name]  # reset the environment and set in training mode\n",
    "        state = env_info.vector_observations[0]            # get the next state\n",
    "        score = 0\n",
    "        for t in range(max_t):\n",
    "            #sleep(0.1)                                     # for debugging and video recording\n",
    "            action = agent.act(state, eps).astype(int)     # get action from agent\n",
    "            env_info = env.step(action)[brain_name]        # send the action to the environment\n",
    "            next_state = env_info.vector_observations[0]   # get the next state\n",
    "            reward = env_info.rewards[0]                   # get the reward\n",
    "            done = env_info.local_done[0]                  # see if episode has finished\n",
    "            agent.step(state, action, reward, next_state, done) # update the parameters in the memory\n",
    "            state = next_state\n",
    "            score += reward\n",
    "            if done:\n",
    "                break \n",
    "        scores_window.append(score)       # save most recent score for the window function\n",
    "        scores.append(score)              # save most recent score\n",
    "        eps = max(eps_end, eps_decay*eps) # decrease epsilon\n",
    "        print('\\rEpisode {}\\tAverage Score: {:.2f}'.format(i_episode, np.mean(scores_window)), end=\"\")\n",
    "        if i_episode % 100 == 0:\n",
    "            print('\\rEpisode {}\\tAverage Score: {:.2f}'.format(i_episode, np.mean(scores_window)))\n",
    "        if np.mean(scores_window)>=13.0 and i_episode_solved == 0:\n",
    "            i_episode_solved     = i_episode\n",
    "            scores_window_solved = np.mean(scores_window)\n",
    "            print('\\nEnvironment solved in {:d} episodes!\\tAverage Score: {:.2f}'.format(i_episode_solved-100, scores_window_solved))\n",
    "            torch.save(agent.qnetwork_local.state_dict(), './Navigation_notebook_resources/Model_weights/checkpoint_solved.pth')\n",
    "            #break\n",
    "    \n",
    "    print('\\nEnvironment solved in {:d} episodes!\\tAverage Score: {:.2f}'.format(i_episode_solved-100, scores_window_solved))\n",
    "    torch.save(agent.qnetwork_local.state_dict(), './Navigation_notebook_resources/Model_weights/checkpoint_training_finished.pth')\n",
    "\n",
    "    return scores\n",
    "\n",
    "scores = dqn()"
   ]
  },
  {
   "cell_type": "markdown",
   "metadata": {},
   "source": [
    "<hr>"
   ]
  },
  {
   "cell_type": "markdown",
   "metadata": {},
   "source": [
    "# Plotting the training reward scores\n",
    "The following code cell plot the score of the trained agent in blue, as well the average score in red and the target score in green."
   ]
  },
  {
   "cell_type": "code",
   "execution_count": 11,
   "metadata": {
    "ExecuteTime": {
     "end_time": "2019-01-13T18:44:06.204427Z",
     "start_time": "2019-01-13T18:44:05.955096Z"
    },
    "scrolled": false
   },
   "outputs": [
    {
     "data": {
      "image/png": "[encoded data removed]",
      "text/plain": [
       "<Figure size 1080x360 with 1 Axes>"
      ]
     },
     "metadata": {
      "needs_background": "light"
     },
     "output_type": "display_data"
    }
   ],
   "source": [
    "# calculate an average over 10 episodes to see the trend of the training\n",
    "moving_average_score = Series.rolling(Series(scores), window=10).mean()\n",
    "\n",
    "# prepare the plot and plot the score of the trained agent in blue, \n",
    "# as well the average score in red and the target score in green.\n",
    "fig = plt.figure(figsize=(15,5))\n",
    "ax = fig.add_subplot(111)\n",
    "# plot the score of the trained agent in blue\n",
    "plt.plot(np.arange(len(scores)), scores, color='b', alpha=0.5, label='Score')\n",
    "# plot the average score of the trained agent in red\n",
    "plt.plot(np.arange(len(scores)), moving_average_score, color='r', alpha=0.7, label='Moving_Average_Score')\n",
    "# plot the target score in green\n",
    "ax.axhline(y=13, xmin=0.0, xmax=1.0, color='g', label=\"Target\")\n",
    "plt.ylabel('Score')\n",
    "plt.xlabel('Episode #')\n",
    "plt.title('Training Reward Score')\n",
    "plt.grid(True)\n",
    "plt.legend(loc=0)\n",
    "plt.show()"
   ]
  },
  {
   "cell_type": "markdown",
   "metadata": {},
   "source": [
    "<hr>"
   ]
  },
  {
   "cell_type": "markdown",
   "metadata": {
    "ExecuteTime": {
     "end_time": "2018-12-28T00:42:25.806251Z",
     "start_time": "2018-12-28T00:41:55.873159Z"
    }
   },
   "source": [
    "# Watch an trained agent  \n",
    "  "
   ]
  },
  {
   "cell_type": "markdown",
   "metadata": {},
   "source": [
    "**Example Video of trained agent.**  \n",
    "After the following code cell is executed the vido can be started via the play button."
   ]
  },
  {
   "cell_type": "code",
   "execution_count": 12,
   "metadata": {
    "ExecuteTime": {
     "end_time": "2019-01-13T18:44:06.212435Z",
     "start_time": "2019-01-13T18:44:06.205425Z"
    }
   },
   "outputs": [
    {
     "data": {
      "text/html": [
       "\n",
       "<div align=\"middle\">\n",
       "<video width=\"80%\" height=\"\" controls>\n",
       "  <source src=\"Navigation_notebook_resources/Picture/03_p1_b_trained.mp4\" type=\"video/mp4\">\n",
       "</video></div>\n"
      ],
      "text/plain": [
       "<IPython.core.display.HTML object>"
      ]
     },
     "execution_count": 12,
     "metadata": {},
     "output_type": "execute_result"
    }
   ],
   "source": [
    "HTML(\"\"\"\n",
    "<div align=\"middle\">\n",
    "<video width=\"80%\" height=\"\" controls>\n",
    "  <source src=\"Navigation_notebook_resources/Picture/03_p1_b_trained.mp4\" type=\"video/mp4\">\n",
    "</video></div>\n",
    "\"\"\")"
   ]
  },
  {
   "cell_type": "markdown",
   "metadata": {
    "ExecuteTime": {
     "end_time": "2018-12-28T00:42:25.806251Z",
     "start_time": "2018-12-28T00:41:55.873159Z"
    }
   },
   "source": [
    "The following testing a trained agent code cell test the trained agent in the environment.\n",
    "The code loads the trained model weights from the folder ```\"./Navigation_notebook_resources/Model_weights/checkpoint_solved.pth\"``` into the agent model and the agent collect the yellow bananas while avoiding the blue bananas. Once one episode has been finished the cell print the score of the episode and plot the associated reward score diagram."
   ]
  },
  {
   "cell_type": "code",
   "execution_count": 13,
   "metadata": {
    "ExecuteTime": {
     "end_time": "2019-01-13T18:46:54.835196Z",
     "start_time": "2019-01-13T18:44:06.213404Z"
    }
   },
   "outputs": [
    {
     "name": "stdout",
     "output_type": "stream",
     "text": [
      "Score: 8.0\n"
     ]
    },
    {
     "data": {
      "image/png": "[encoded data removed]",
      "text/plain": [
       "<Figure size 1080x216 with 1 Axes>"
      ]
     },
     "metadata": {
      "needs_background": "light"
     },
     "output_type": "display_data"
    },
    {
     "name": "stdout",
     "output_type": "stream",
     "text": [
      "Score: 15.0\n"
     ]
    },
    {
     "data": {
      "image/png": "[encoded data removed]",
      "text/plain": [
       "<Figure size 1080x216 with 1 Axes>"
      ]
     },
     "metadata": {
      "needs_background": "light"
     },
     "output_type": "display_data"
    },
    {
     "name": "stdout",
     "output_type": "stream",
     "text": [
      "Score: 23.0\n"
     ]
    },
    {
     "data": {
      "image/png": "[encoded data removed]",
      "text/plain": [
       "<Figure size 1080x216 with 1 Axes>"
      ]
     },
     "metadata": {
      "needs_background": "light"
     },
     "output_type": "display_data"
    }
   ],
   "source": [
    "# testing a trained agent code cell\n",
    "# load the model weights from file\n",
    "agent.qnetwork_local.load_state_dict(torch.load('./Navigation_notebook_resources/Model_weights/checkpoint_solved.pth'))\n",
    "\n",
    "for j in range(3):                                     # specify the number of episodes\n",
    "    env_info = env.reset(train_mode=False)[brain_name] # reset the environment\n",
    "    state = env_info.vector_observations[0]            # get the current state\n",
    "    scores = []                                        # list containing scores from each episode\n",
    "    score = 0                                          # initialize the score\n",
    "    while True:\n",
    "        #sleep(0.1)                                     # optional to reduce the speed of the agent\n",
    "        action = agent.act(state, eps=0.0).astype(int) # get action from agent\n",
    "        env_info = env.step(action)[brain_name]        # send the action to the environment\n",
    "        next_state = env_info.vector_observations[0]   # get the next state\n",
    "        reward = env_info.rewards[0]                   # get the reward\n",
    "        done = env_info.local_done[0]                  # see if episode has finished\n",
    "        score += reward                                # update the score\n",
    "        scores.append(score)                           # collect the score\n",
    "        state = next_state                             # roll over the state to next time step\n",
    "        if done:                                       # exit loop if episode finished\n",
    "            break\n",
    "    print(\"Score: {}\".format(score))\n",
    "\n",
    "    # plot the achieved scores of the testing\n",
    "    fig = plt.figure(figsize=(15,3))\n",
    "    ax = fig.add_subplot(111)\n",
    "    plt.plot(np.arange(len(scores)), scores)\n",
    "    plt.ylabel('Score')\n",
    "    plt.xlabel('Episode #')\n",
    "    plt.grid(True)\n",
    "    plt.show()"
   ]
  },
  {
   "cell_type": "markdown",
   "metadata": {},
   "source": [
    "<hr>"
   ]
  },
  {
   "cell_type": "markdown",
   "metadata": {},
   "source": [
    "# Close environment\n",
    "Close the environment after the training and testing phase."
   ]
  },
  {
   "cell_type": "code",
   "execution_count": 14,
   "metadata": {
    "ExecuteTime": {
     "end_time": "2019-01-13T18:46:54.841151Z",
     "start_time": "2019-01-13T18:46:54.836164Z"
    }
   },
   "outputs": [],
   "source": [
    "env.close()"
   ]
  },
  {
   "cell_type": "markdown",
   "metadata": {},
   "source": [
    "<hr>"
   ]
  }
 ],
 "metadata": {
  "kernelspec": {
   "display_name": "drlnd",
   "language": "python",
   "name": "drlnd"
  },
  "language_info": {
   "codemirror_mode": {
    "name": "ipython",
    "version": 3
   },
   "file_extension": ".py",
   "mimetype": "text/x-python",
   "name": "python",
   "nbconvert_exporter": "python",
   "pygments_lexer": "ipython3",
   "version": "3.6.7"
  },
  "toc": {
   "base_numbering": 1,
   "nav_menu": {},
   "number_sections": true,
   "sideBar": true,
   "skip_h1_title": false,
   "title_cell": "Table of Contents",
   "title_sidebar": "Contents",
   "toc_cell": false,
   "toc_position": {
    "height": "calc(100% - 180px)",
    "left": "10px",
    "top": "150px",
    "width": "281.4px"
   },
   "toc_section_display": true,
   "toc_window_display": true
  },
  "varInspector": {
   "cols": {
    "lenName": 16,
    "lenType": 16,
    "lenVar": 40
   },
   "kernels_config": {
    "python": {
     "delete_cmd_postfix": "",
     "delete_cmd_prefix": "del ",
     "library": "var_list.py",
     "varRefreshCmd": "print(var_dic_list())"
    },
    "r": {
     "delete_cmd_postfix": ") ",
     "delete_cmd_prefix": "rm(",
     "library": "var_list.r",
     "varRefreshCmd": "cat(var_dic_list()) "
    }
   },
   "types_to_exclude": [
    "module",
    "function",
    "builtin_function_or_method",
    "instance",
    "_Feature"
   ],
   "window_display": false
  }
 },
 "nbformat": 4,
 "nbformat_minor": 2
}
