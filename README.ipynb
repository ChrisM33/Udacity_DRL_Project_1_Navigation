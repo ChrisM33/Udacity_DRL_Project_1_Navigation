{
 "cells": [
  {
   "cell_type": "markdown",
   "metadata": {},
   "source": [
    "<font size=\"6\">Udacity Deep Reinforcement Learning Nanodegree Program</font>\n",
    "\n",
    "<div class=\"alert alert-block alert-info\" style=\"margin-top: 20px\">\n",
    " <a href=\"https://www.udacity.com/course/deep-reinforcement-learning-nanodegree--nd893\"><img src = \"Navigation_notebook_resources/Picture/UdacityDRL01.png\" width = 950, align = \"center\"></a>\n",
    "</div>\n",
    "\n",
    "This repository contains the solution of the first project of the [Udacity Deep Reinforcement Learning Nanodegree Program](https://www.udacity.com/course/deep-reinforcement-learning-nanodegree--nd893) from [Christian Motschenbacher](https://gh.linkedin.com/in/christian-motschenbacher-7a660b123)\n"
   ]
  },
  {
   "cell_type": "markdown",
   "metadata": {},
   "source": [
    "# Table of Contents\n",
    "\n",
    "<div class=\"alert alert-block alert-info\" style=\"margin-top: 20px\">\n",
    "<li><a href=\"#ref0\">Author, Project and Environment description </a></li>\n",
    "<li><a href=\"#ref3\">Getting Started and Dependencies </a></li>\n",
    "<li><a href=\"#ref7\">Instructions how to run the code </a></li>\n",
    "</div>"
   ]
  },
  {
   "cell_type": "markdown",
   "metadata": {},
   "source": [
    "<hr>"
   ]
  },
  {
   "cell_type": "markdown",
   "metadata": {},
   "source": [
    "# Author, Project and Environment description\n",
    "## Author  \n",
    "\n",
    "**Name: [Christian Motschenbacher](https://gh.linkedin.com/in/christian-motschenbacher-7a660b123)**  \n",
    "\n",
    "**Date: 01/2019**  \n",
    "\n",
    "**Project: Udacity Deep Reinforcement Learning Nanodegree Program: Project 1 Navigation (Banana)**  \n",
    "**This file contains the project environment details such as the state and action space and when the environment is considered soved. It also contains how to get started by installing the dependencies and or download the necessary files on the local computer. Furthermore, it describes how to run the code in the repository, to train and test the agent.**\n",
    "\n",
    "\n",
    "## Project and Environment description\n",
    "\n",
    "    \n",
    "<p>The task of this project was to to train an agent, who navigates in a large environment, collect as many yellow bananas while avoiding blue bananas. The following video shows how a trained agent is performing this task.</p>\n",
    "\n",
    "![](./Navigation_notebook_resources/Picture/UdacityDRL02.gif)\n",
    "\n",
    "<p>A reward of +1 is provided for collecting a yellow banana, and a reward of -1 is provided for collecting a blue banana.  Thus, the goal of the agent is to collect as many yellow bananas as possible while avoiding blue bananas.  </p>\n",
    "\n",
    "<p>The state space has 37 dimensions and contains the agent's velocity, along with ray-based perception of objects around the agent's forward direction.  Given this information, the agent has to learn how to best select actions. Four discrete actions are available, corresponding to:</p>\n",
    "\n",
    "<ul>\n",
    "<li><strong><code>0</code></strong> - move forward.</li>\n",
    "<li><strong><code>1</code></strong> - move backward.</li>\n",
    "<li><strong><code>2</code></strong> - turn left.</li>\n",
    "<li><strong><code>3</code></strong> - turn right.</li>\n",
    "</ul>\n",
    "\n",
    "<p>The task is episodic and in order to solve the environment, the agent must achieve an average score of +13 over 100 consecutive episodes.</p>\n",
    "\n",
    "<p>The notebook for the training and testing \"Navigation_solution_training_testing.ipynb\" in this folder contains the chapter \"Examine the State and Action Spaces\", where you can find an example of the state space and action space as well more detailed information about the environment and project.</p>\n",
    "\n",
    "<p> For the solution of this task it has been used the banana environment from Unity-Technologies, the Python programming language as well the libraries NumPy, PyTorch and others.</p>\n"
   ]
  },
  {
   "cell_type": "markdown",
   "metadata": {},
   "source": [
    "<hr>"
   ]
  },
  {
   "cell_type": "markdown",
   "metadata": {},
   "source": [
    "# Getting Started and Dependencies\n",
    "This DRL project use three main software components.\n",
    "Those components are Python, Udacity DRL course dependencies and as well the Unity-Technologies/ml-agents dependencies. The installations of those elements are described in the following subsections.\n",
    "\n",
    "## Python\n",
    "In order to set up the python environment run the following code and follow the instructions below.\n",
    "\n",
    "**Create (and activate) a new environment with Python 3.6 including the anaconda packages.**  \n",
    "The following code state how to install python on Linux, Mac or Windows.\n",
    "In order to install python on your target system you must write or copy paste the following command into the command line of your system.\n",
    "The three code commands in the following code sections do the following.\n",
    "1. Install python and the anaconda packages into the new environment with the name drlnd.\n",
    "2. Activate the new created environment\n",
    "3. Deactivate the environment\n",
    "\n",
    "\t- __Linux__ or __Mac__: \n",
    "\t```bash\n",
    "\tconda create --name drlnd python=3.6 anaconda  \n",
    "\tsource activate drlnd  \n",
    "    conda deactivate  \n",
    "\t```\n",
    "\t- __Windows__:   \n",
    "\t```bash\n",
    "\tconda create --name drlnd python=3.6 anaconda  \n",
    "\tactivate drlnd  \n",
    "    deactivate  \n",
    "\t```\n",
    "\n",
    "**Note: Activation and deactivation of the environment.**  \n",
    "Command (... activate drlnd): This command needs to be executed before any additional python library will be installed into this environment.  \n",
    "Command (... deactivate): This command needs to be executed before the user will work with another environment.\n",
    "  \n",
    "For the setup of this project once the first command has been executed the environment can be activated and be activated until all dependencies have been installed. \n",
    "\n",
    "**Download this repository**  \n",
    "Before you continue with the next dependencies download this repository onto your local computer, in order to continue with the following sections.\n",
    "\n",
    "## Udacity DRL course  \n",
    "For easier setup of this project the Udacity DRL course dependencies has been extracted from the repository [deep-reinforcement-learning](https://github.com/udacity/deep-reinforcement-learning) and copied into this repository. Therefore, the user can navigate into the folder **\"./Installation/DRL_Environment/python\"** of this downloaded repository and perform the command ```pip install . ``` in the command line on the local PC to install the dependencies. More information about the installation if needed can be found at the above linked Udacity repository.\n",
    "\n",
    "## Unity-Technologies/ml-agents\n",
    "For easier setup of this project the Unity-Technologies/ml-agents dependencies has been extracted from the repository [Unity-Technologies/ml-agents](https://github.com/Unity-Technologies/ml-agents) and copied into this repository. Therefore, the user can navigate into the folder **\"./Installation/Unity_Technologies_ml_agents/ml-agents/\"** of this downloaded repository and perform the command ```pip install -e . ``` in the command line on the local PC to install the dependencies. More information about the installation if needed can be found at the above linked Unity-Technologies/ml-agents repository.\n",
    "\n",
    "## Unity-Technologies Environment\n",
    "For this project, you will **not** need to install Unity - this is because the environments for the different operating systems have already been build for you and you can download it from the links below. You need only select the environment that matches your operating system:\n",
    "\n",
    "<ul>\n",
    "<li>Linux: <a target=\"_blank\" href=\"https://s3-us-west-1.amazonaws.com/udacity-drlnd/P1/Banana/Banana_Linux.zip\">click here</a></li>\n",
    "<li>Mac OSX: <a target=\"_blank\" href=\"https://s3-us-west-1.amazonaws.com/udacity-drlnd/P1/Banana/Banana.app.zip\">click here</a></li>\n",
    "<li>Windows (32-bit): <a target=\"_blank\" href=\"https://s3-us-west-1.amazonaws.com/udacity-drlnd/P1/Banana/Banana_Windows_x86.zip\">click here</a></li>\n",
    "<li>Windows (64-bit): <a target=\"_blank\" href=\"https://s3-us-west-1.amazonaws.com/udacity-drlnd/P1/Banana/Banana_Windows_x86_64.zip\">click here</a></li>\n",
    "</ul>\n",
    "\n",
    "Then, place the file in the `\"./Navigation_notebook_resources/Environment/\"` folder of this downloaded GitHub repository and unzip (or decompress) the file.\n",
    "\n",
    "<p>(<em>For Windows users</em>) Check out <a target=\"_blank\" href=\"https://support.microsoft.com/en-us/help/827218/how-to-determine-whether-a-computer-is-running-a-32-bit-version-or-64\">this link</a> if you need help with determining if your computer is running a 32-bit version or 64-bit version of the Windows operating system.</p>\n",
    "\n",
    "\n",
    "## Create an [IPython kernel](http://ipython.readthedocs.io/en/stable/install/kernel_install.html) for the `drlnd` environment.  \n",
    "Run the following code in your command line of your computer to create an **IPython kernel** for your notebook.\n",
    "```bash\n",
    "python -m ipykernel install --user --name drlnd --display-name \"drlnd\"\n",
    "```\n",
    "\n",
    "## Before running code in a notebook, change the kernel to match the `drlnd` environment by using the drop-down `Kernel` menu.  \n",
    "<img src = \"Navigation_notebook_resources/Picture/UdacityDRL03.png\" width = 550, align = \"center\">\n",
    "\n"
   ]
  },
  {
   "cell_type": "markdown",
   "metadata": {},
   "source": [
    "<hr>"
   ]
  },
  {
   "cell_type": "markdown",
   "metadata": {},
   "source": [
    "# Instructions how to run the code\n",
    "Once you have installed the previous dependencies you can continue with the following instruction on how to run the code."
   ]
  },
  {
   "cell_type": "markdown",
   "metadata": {},
   "source": [
    "## Run the code in training and test mode\n",
    "\n",
    "### Notebook with training and testing code\n",
    "The notebook **Navigation_solution_training_testing.ipynb**, which is in the **root folder of this repository**, contains the testing and training code of the agent in the environment. The fist part explains and shows the performance (testing) of an untrained agent, the middle part of this file explains how to train the agent and the bottom part of this file explains and shows the performance (testing) of an trained agent. It is not required to run the whole notebook from the beginning in order to run the testing section, because the training weights file of the neural network (NN) model has been stored in the folder **./Navigation_notebook_resources/Model_weights/**. This means for instance that the user can start this notebook, run the code cells \"load libraries\", \"create environment\", \"create agent instance\" and then the user can run the testing code in the end of the notebook. Otherwise the notebook is well documented, easy to follow and self-explanatory.   \n",
    "\n",
    "#### DQN agent class\n",
    "The **\"agent class\"** is in the file **dqn_agent.py**, which is in the **root folder of this repository**, contains DQN agent class, with all the elements of the DQN algorithm excluding the NN models, which are in the file **model.py** of the same folder. This solution implementation evaluated more DQN NN models, which can be selected in the file **dqn_agent.py** by uncommenting the desired model and commenting the other models in the beginning of the file **dqn_agent.py**. The code in the file is well documented, easy to follow and self-explanatory.   \n",
    "\n",
    "#### NN model\n",
    "The **\"fully connected NN model classes\"** are in the file **model.py**, which is in the **root folder of this repository**, containing the different fully connected NN model classes, with all the elements of the NN algorithm. The code in the file is well documented, easy to follow and self-explanatory.   "
   ]
  },
  {
   "cell_type": "markdown",
   "metadata": {},
   "source": [
    "## Resources and references\n",
    "Further resources and references regarding this project and DQN can be found in the following links.\n",
    "\n",
    "<ul>\n",
    "<li><p>Riedmiller, Martin. \"Neural fitted Q iteration–first experiences with a data efficient neural reinforcement learning method.\" European Conference on Machine Learning. Springer, Berlin, Heidelberg, 2005.\n",
    "<a target=\"_blank\" href=\"http://ml.informatik.uni-freiburg.de/former/_media/publications/rieecml05.pdf\">http://ml.informatik.uni-freiburg.de/former/_media/publications/rieecml05.pdf</a></p>\n",
    "</li>\n",
    "<li><p>Mnih, Volodymyr, et al. \"Human-level control through deep reinforcement learning.\" Nature518.7540 (2015): 529.\n",
    "<a target=\"_blank\" href=\"http://www.davidqiu.com:8888/research/nature14236.pdf\">http://www.davidqiu.com:8888/research/nature14236.pdf</a> </p>\n",
    "</li>\n",
    "<li><p>Hado van Hasselt, Arthur Guez, David Silver \"Deep Reinforcement Learning with Double Q-learning\" arXiv.\n",
    "<a target=\"_blank\" href=\"https://arxiv.org/abs/1509.06461\">https://arxiv.org/abs/1509.06461</a> </p>\n",
    "</li>\n",
    "<li><p>Tom Schaul, John Quan, Ioannis Antonoglou, David Silver \"Prioritized Experience Replay\" arXiv.\n",
    "<a target=\"_blank\" href=\"https://arxiv.org/abs/1511.05952\">https://arxiv.org/abs/1511.05952</a> </p>\n",
    "</li>\n",
    "<li><p>Ziyu Wang, Tom Schaul, Matteo Hessel, Hado van Hasselt, Marc Lanctot, Nando de Freitas \"Dueling Network Architectures for Deep Reinforcement Learning\" arXiv.\n",
    "<a target=\"_blank\" href=\"https://arxiv.org/abs/1511.06581\">https://arxiv.org/abs/1511.06581</a> </p>\n",
    "</li>\n",
    "<li><p>Volodymyr Mnih, Adrià Puigdomènech Badia, Mehdi Mirza, Alex Graves, Timothy P. Lillicrap, Tim Harley, David Silver, Koray Kavukcuoglu \"Asynchronous Methods for Deep Reinforcement Learning\" arXiv.\n",
    "<a target=\"_blank\" href=\"https://arxiv.org/abs/1602.01783\">https://arxiv.org/abs/1602.01783</a> </p>\n",
    "</li>\n",
    "<li><p>Marc G. Bellemare, Will Dabney, Rémi Munos \"A Distributional Perspective on Reinforcement Learning\" arXiv.\n",
    "<a target=\"_blank\" href=\"https://arxiv.org/abs/1707.06887\">https://arxiv.org/abs/1707.06887</a> </p>\n",
    "</li>\n",
    "<li><p>Meire Fortunato, Mohammad Gheshlaghi Azar, Bilal Piot, Jacob Menick, Ian Osband, Alex Graves, Vlad Mnih, Remi Munos, Demis Hassabis, Olivier Pietquin, Charles Blundell, Shane Legg \"Noisy Networks for Exploration\" arXiv.\n",
    "<a target=\"_blank\" href=\"https://arxiv.org/abs/1706.10295\">https://arxiv.org/abs/1706.10295</a> </p>\n",
    "</li>\n",
    "<li><p>Matteo Hessel, Joseph Modayil, Hado van Hasselt, Tom Schaul, Georg Ostrovski, Will Dabney, Dan Horgan, Bilal Piot, Mohammad Azar, David Silver \"Rainbow: Combining Improvements in Deep Reinforcement Learning\" arXiv.\n",
    "<a target=\"_blank\" href=\"https://arxiv.org/abs/1511.06581\">https://arxiv.org/abs/1511.06581</a> </p>\n",
    "</li>\n",
    "</ul>\n"
   ]
  },
  {
   "cell_type": "markdown",
   "metadata": {},
   "source": [
    "<hr>"
   ]
  }
 ],
 "metadata": {
  "kernelspec": {
   "display_name": "drlnd",
   "language": "python",
   "name": "drlnd"
  },
  "language_info": {
   "codemirror_mode": {
    "name": "ipython",
    "version": 3
   },
   "file_extension": ".py",
   "mimetype": "text/x-python",
   "name": "python",
   "nbconvert_exporter": "python",
   "pygments_lexer": "ipython3",
   "version": "3.6.7"
  },
  "toc": {
   "base_numbering": 1,
   "nav_menu": {},
   "number_sections": true,
   "sideBar": true,
   "skip_h1_title": false,
   "title_cell": "Table of Contents",
   "title_sidebar": "Contents",
   "toc_cell": false,
   "toc_position": {
    "height": "calc(100% - 180px)",
    "left": "10px",
    "top": "150px",
    "width": "281.4px"
   },
   "toc_section_display": true,
   "toc_window_display": true
  },
  "varInspector": {
   "cols": {
    "lenName": 16,
    "lenType": 16,
    "lenVar": 40
   },
   "kernels_config": {
    "python": {
     "delete_cmd_postfix": "",
     "delete_cmd_prefix": "del ",
     "library": "var_list.py",
     "varRefreshCmd": "print(var_dic_list())"
    },
    "r": {
     "delete_cmd_postfix": ") ",
     "delete_cmd_prefix": "rm(",
     "library": "var_list.r",
     "varRefreshCmd": "cat(var_dic_list()) "
    }
   },
   "types_to_exclude": [
    "module",
    "function",
    "builtin_function_or_method",
    "instance",
    "_Feature"
   ],
   "window_display": false
  }
 },
 "nbformat": 4,
 "nbformat_minor": 2
}
